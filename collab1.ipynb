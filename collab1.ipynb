{
  "nbformat": 4,
  "nbformat_minor": 0,
  "metadata": {
    "colab": {
      "provenance": []
    },
    "kernelspec": {
      "name": "python3",
      "display_name": "Python 3"
    },
    "language_info": {
      "name": "python"
    }
  },
  "cells": [
    {
      "cell_type": "code",
      "execution_count": 3,
      "metadata": {
        "id": "OXFKKLrpeWO2"
      },
      "outputs": [],
      "source": [
        "class Hayvan:\n",
        "\n",
        "  def __init__(self):\n",
        "    print(\"animal cons kuruldu\")\n",
        "\n",
        "  def walk(self):\n",
        "    print(\"hayvanlar uçar\")\n",
        "\n",
        "  def varlik(self):\n",
        "    print(\"hayvanlar vardir\")\n",
        "#ctrl+1 seçiln kodları yoruma alır(spyder)\n",
        "class Maymun(Hayvan):\n",
        "#init demek constructor demek\n",
        "  def __init__(self):\n",
        "    super().__init__()\n",
        "    print(\"monky cons kuruldu\")\n",
        "\n",
        "  def tirmanma(self):\n",
        "    print(\"maymun tırmanır\")\n",
        "\n",
        "class Kuş(Hayvan):\n",
        "\n",
        "  def __init__(self):\n",
        "     super().__init__()\n",
        "     print(\"bird cons kuruldu\")\n",
        "\n",
        "  def ucmak(self):\n",
        "    print(\"kuş uçar yazı kalır\")"
      ]
    },
    {
      "cell_type": "code",
      "source": [
        "h=Hayvan()"
      ],
      "metadata": {
        "colab": {
          "base_uri": "https://localhost:8080/"
        },
        "id": "rGg78KADedZE",
        "outputId": "e98274b3-219f-4821-8ca7-6469faf8a0e0"
      },
      "execution_count": 4,
      "outputs": [
        {
          "output_type": "stream",
          "name": "stdout",
          "text": [
            "animal cons kuruldu\n"
          ]
        }
      ]
    },
    {
      "cell_type": "code",
      "source": [
        "maymun=Maymun()"
      ],
      "metadata": {
        "colab": {
          "base_uri": "https://localhost:8080/"
        },
        "id": "zLYWqYc6ewKu",
        "outputId": "fd4d1b50-17bc-439c-f6f6-942cf3ebaba1"
      },
      "execution_count": 5,
      "outputs": [
        {
          "output_type": "stream",
          "name": "stdout",
          "text": [
            "animal cons kuruldu\n",
            "monky cons kuruldu\n"
          ]
        }
      ]
    },
    {
      "cell_type": "code",
      "source": [
        "kuş=Kuş()"
      ],
      "metadata": {
        "colab": {
          "base_uri": "https://localhost:8080/"
        },
        "id": "ry0GGEfNeyeM",
        "outputId": "66ca7290-3dba-4add-83b8-689b63c43b4e"
      },
      "execution_count": 6,
      "outputs": [
        {
          "output_type": "stream",
          "name": "stdout",
          "text": [
            "animal cons kuruldu\n",
            "bird cons kuruldu\n"
          ]
        }
      ]
    },
    {
      "cell_type": "code",
      "source": [
        "kuş.ucmak()\n",
        "kuş.varlik()\n",
        "maymun.tirmanma()\n",
        "h.varlik()"
      ],
      "metadata": {
        "colab": {
          "base_uri": "https://localhost:8080/"
        },
        "id": "poIlbnW5e0Sn",
        "outputId": "8ed20717-abe8-4193-d64c-b3225313cb33"
      },
      "execution_count": 11,
      "outputs": [
        {
          "output_type": "stream",
          "name": "stdout",
          "text": [
            "kuş uçar yazı kalır\n",
            "hayvanlar vardir\n",
            "maymun tırmanır\n",
            "hayvanlar vardir\n"
          ]
        }
      ]
    },
    {
      "cell_type": "code",
      "source": [],
      "metadata": {
        "id": "-nCxiSi6f19D"
      },
      "execution_count": null,
      "outputs": []
    }
  ]
}